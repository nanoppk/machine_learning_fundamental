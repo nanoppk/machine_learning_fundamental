{
 "cells": [
  {
   "cell_type": "markdown",
   "id": "c3e669e9",
   "metadata": {},
   "source": [
    "<div class=\"alert alert-block alert-danger\">\n",
    "\n",
    "#### Student Name: Anon Pipatpakin\n",
    "#### Student ID: 33366829\n",
    "# Covariances\n",
    "    \n",
    "\n",
    "</div>"
   ]
  },
  {
   "cell_type": "markdown",
   "id": "09540255",
   "metadata": {},
   "source": [
    "<div class=\"alert alert-block alert-info\">\n",
    "    \n",
    "## Libaries\n",
    "\n",
    "</div>"
   ]
  },
  {
   "cell_type": "code",
   "execution_count": 1,
   "id": "a02704ce",
   "metadata": {},
   "outputs": [],
   "source": [
    "import numpy as np"
   ]
  },
  {
   "cell_type": "markdown",
   "id": "1490ae7b",
   "metadata": {},
   "source": [
    "## Question 4 "
   ]
  },
  {
   "cell_type": "markdown",
   "id": "76b69a07",
   "metadata": {},
   "source": [
    "Assume we have four financial assets and their\n",
    "values (per dollar) in 20 years from today are the random variables X1, X2, X3, and X4. Assume further that their mean values and standard deviations are 100, 100, 50, 50 and 20, 22, 5, 5,\n",
    "respectively. Finally, assume that the correlation matrix between the variables is"
   ]
  },
  {
   "cell_type": "markdown",
   "id": "20d5dcf7",
   "metadata": {},
   "source": [
    "\n",
    "\n",
    "\n",
    "$$R =\n",
    "\\begin{pmatrix}\n",
    "1.0 & 0.9 & 0.0 & 0.0 \\\\\n",
    "0.9 & 1.0 & -0.9 & -0.9 \\\\\n",
    "0.0 & -0.9 & 1.0 & 0.5 \\\\\n",
    "0.0 & -0.9 & 0.5 & 1.0 \\\\\n",
    "\\end{pmatrix}\n",
    "$$\n",
    "\n",
    "\n"
   ]
  },
  {
   "cell_type": "markdown",
   "id": "bfa2d399",
   "metadata": {},
   "source": [
    "where the entry Ri,j corrsponds to ρ(Xi\n",
    ", Xj ) = Cov(Xi\n",
    ", Xj )/(Std(Xi)Std(Xj )). Now we consider\n",
    "the following four investment portfolios, each investing 100 dollars today:\n",
    "1. Investing 50 into asset 1, 0 into asset 2, 25 into asset 3, and 25 into assset 4\n",
    "2. 0, 50, 50, 0\n",
    "3. 0, 50, 25, 25\n",
    "4. 25, 25, 25, 25"
   ]
  },
  {
   "cell_type": "markdown",
   "id": "acbd7afa",
   "metadata": {},
   "source": [
    "**I.** Compute the expected values and standard deviations of each portfolio after 20 years using\n",
    "Python (with only imports from numpy) and give a recommendation in a markdown cell on\n",
    "what portfolio a conservative investor should choose."
   ]
  },
  {
   "cell_type": "code",
   "execution_count": 2,
   "id": "74bcaa66",
   "metadata": {},
   "outputs": [],
   "source": [
    "# define mean array\n",
    "mu = np.array([[100, 100, 50, 50]])\n",
    "std = np.array([[20, 22, 5, 5]])"
   ]
  },
  {
   "cell_type": "code",
   "execution_count": 3,
   "id": "a485ee36",
   "metadata": {},
   "outputs": [],
   "source": [
    "port_array = np.array([[50, 0, 25, 25],\n",
    "                     [0, 50, 50, 0],\n",
    "                     [0, 50, 25, 25],\n",
    "                     [25, 25, 25, 25]])"
   ]
  },
  {
   "cell_type": "code",
   "execution_count": 4,
   "id": "3380eb83",
   "metadata": {},
   "outputs": [
    {
     "name": "stdout",
     "output_type": "stream",
     "text": [
      "Expected return for portolio1 is 7500\n",
      "Expected return for portolio2 is 7500\n",
      "Expected return for portolio3 is 7500\n",
      "Expected return for portolio4 is 7500\n"
     ]
    }
   ],
   "source": [
    "expected_profit = port_array @ mu.T\n",
    "for i in range(len(expected_profit)):\n",
    "    print(f\"Expected return for portolio{i+1} is {expected_profit[i][0]}\")"
   ]
  },
  {
   "cell_type": "code",
   "execution_count": 5,
   "id": "911aaa01",
   "metadata": {},
   "outputs": [],
   "source": [
    "# find covariace matrix\n",
    "correlation_matrix = np.array([[1.0, 0.9, 0.0, 0.0],\n",
    "                              [0.9, 1.0, -0.9, -0.9],\n",
    "                              [0.0, -0.9, 1.0, 0.5],\n",
    "                              [0.0, -0.9, 0.5, 1.0]])"
   ]
  },
  {
   "cell_type": "code",
   "execution_count": 6,
   "id": "ac5ebdd6",
   "metadata": {},
   "outputs": [
    {
     "data": {
      "text/plain": [
       "array([[400. , 396. ,   0. ,   0. ],\n",
       "       [396. , 484. , -99. , -99. ],\n",
       "       [  0. , -99. ,  25. ,  12.5],\n",
       "       [  0. , -99. ,  12.5,  25. ]])"
      ]
     },
     "execution_count": 6,
     "metadata": {},
     "output_type": "execute_result"
    }
   ],
   "source": [
    "cov_matrix = correlation_matrix * std * std.T\n",
    "cov_matrix"
   ]
  },
  {
   "cell_type": "code",
   "execution_count": 8,
   "id": "884af9de",
   "metadata": {},
   "outputs": [
    {
     "name": "stdout",
     "output_type": "stream",
     "text": [
      "Standard diviation of portfolio 1 1023.17\n",
      "Standard diviation of portfolio 2 881.76\n",
      "Standard diviation of portfolio 3 872.85\n",
      "Standard diviation of portfolio 4 920.26\n"
     ]
    }
   ],
   "source": [
    "std_list = []\n",
    "for i in range(port_array.shape[0]):\n",
    "    std = round(np.sqrt(port_array[i] @ cov_matrix @ port_array[i]), 2)\n",
    "    print(f\"Standard diviation of portfolio {i+1} {std}\")"
   ]
  },
  {
   "cell_type": "markdown",
   "id": "2172943c",
   "metadata": {},
   "source": [
    "From the question, we need to consider as follow:\n",
    "1. Expected return which can be addressed this question by finding expected profit of each portfolio. \n",
    "2. Risk of the portfolios or uncertainty of investment by finding variance or standard diviation of each portfolio."
   ]
  },
  {
   "cell_type": "markdown",
   "id": "38ece6e0",
   "metadata": {},
   "source": [
    "Investing with the four straegies, the expexted return are the same, 7500 dollar. However, when consider the risk of each portfolio the third port provide the lowest risk of investment at STD 872.85. Hence, the best straegy is the third portfolio."
   ]
  },
  {
   "cell_type": "markdown",
   "id": "fa55fbf7",
   "metadata": {},
   "source": [
    "----------------------------------"
   ]
  },
  {
   "cell_type": "markdown",
   "id": "1367811e",
   "metadata": {},
   "source": [
    "**II.** Explain the mathematical background of your computations in another markdown cell, i.e.,\n",
    "explain what rules of probability you applied and how (make sure to mention arguments for\n",
    "both the expected value as well as the standard deviations of the portfolios)."
   ]
  },
  {
   "cell_type": "markdown",
   "id": "94df7e22",
   "metadata": {},
   "source": [
    "For the expectation of return of the portfolios can be solved by\n",
    "\\begin{equation}\n",
    "E[\\boldsymbol{A} \\boldsymbol{x}] = \\boldsymbol{A} E[\\boldsymbol{x}]\\\\\n",
    "\\end{equation}\n",
    "Expected value of a random variable is average value of observations.\n",
    "\\begin{equation}\n",
    "E[\\boldsymbol{A} \\boldsymbol{x}] = \\boldsymbol{A} \\boldsymbol{\\mu}\\\\\n",
    "\\end{equation}\n",
    "Where $\\boldsymbol{A}$ is a portfolio matrix and $\\mu$ is a average values vector."
   ]
  },
  {
   "cell_type": "markdown",
   "id": "16a648ee",
   "metadata": {},
   "source": [
    "To address the risk of investment(STD of portfolios) follows as:\\\n",
    "The question provides, \n",
    "\\begin{equation}\n",
    "\\rho (X_i, X_j) = \\frac{Cov(X_i, X_j)}{Std(X_i)Std(X_j)} \\\\\n",
    "Cov(X_i, X_j) = \\rho (X_i, X_j) Std(X_i)Std(X_j)\n",
    "\\end{equation}\n",
    "Since, \n",
    "\\begin{equation}\n",
    "Var(\\boldsymbol{a}^T \\boldsymbol{x}) = Cov(\\boldsymbol{a}^T\\boldsymbol{x}, \\boldsymbol{a}^T\\boldsymbol{x}) \\\\\n",
    "= \\boldsymbol{a}^T \\boldsymbol{\\Sigma} \\boldsymbol{a}\n",
    "\\end{equation}\n",
    "Where, $\\Sigma$ is a covariance matrix of assests and $\\boldsymbol{a}$ is a particular investment portfolio\\\n",
    "Hence, standard diviation for particular portfolio is\n",
    "\\begin{equation}\n",
    "STD = \\sqrt{Var(\\boldsymbol{a}^T \\boldsymbol{x})}\n",
    "\\end{equation}"
   ]
  }
 ],
 "metadata": {
  "kernelspec": {
   "display_name": "Python 3 (ipykernel)",
   "language": "python",
   "name": "python3"
  },
  "language_info": {
   "codemirror_mode": {
    "name": "ipython",
    "version": 3
   },
   "file_extension": ".py",
   "mimetype": "text/x-python",
   "name": "python",
   "nbconvert_exporter": "python",
   "pygments_lexer": "ipython3",
   "version": "3.9.13"
  }
 },
 "nbformat": 4,
 "nbformat_minor": 5
}
