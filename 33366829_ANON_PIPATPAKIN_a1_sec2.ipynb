{
 "cells": [
  {
   "cell_type": "markdown",
   "id": "07a940cc",
   "metadata": {},
   "source": [
    "<div class=\"alert alert-block alert-danger\">\n",
    "\n",
    "#### Student Name: Anon Pipatpakin\n",
    "#### Student ID: 33366829\n",
    "# Probability\n",
    "    \n",
    "\n",
    "</div>"
   ]
  },
  {
   "cell_type": "markdown",
   "id": "2a0a5f72",
   "metadata": {},
   "source": [
    "<div class=\"alert alert-block alert-info\">\n",
    "    \n",
    "## Libaries and train test split\n",
    "\n",
    "</div>"
   ]
  },
  {
   "cell_type": "code",
   "execution_count": 1,
   "id": "6fca72a0",
   "metadata": {},
   "outputs": [],
   "source": [
    "# use train test split from the class\n",
    "def train_test_split(x, y, train_size=0.6, random_state=None):\n",
    "    RNG = np.random.default_rng(random_state)\n",
    "    N = len(x)\n",
    "    N_train = round(N*train_size)\n",
    "    idx_train = RNG.choice(N, N_train, replace=False)\n",
    "    idx_test = np.setdiff1d(np.arange(N), idx_train)\n",
    "    RNG.shuffle(idx_test)\n",
    "    return x[idx_train], x[idx_test], y[idx_train], y[idx_test]"
   ]
  },
  {
   "cell_type": "code",
   "execution_count": 2,
   "id": "c7a3eac4",
   "metadata": {},
   "outputs": [],
   "source": [
    "# Import libaries\n",
    "from sklearn.base import BaseEstimator\n",
    "from scipy.spatial import KDTree\n",
    "import numpy as np\n",
    "from sklearn.datasets import load_diabetes, fetch_california_housing\n",
    "from matplotlib import pyplot as plt\n",
    "from sklearn.metrics import mean_squared_error\n",
    "from sklearn.base import BaseEstimator"
   ]
  },
  {
   "cell_type": "markdown",
   "id": "95560773",
   "metadata": {},
   "source": [
    "<div class=\"alert alert-block alert-info\">\n",
    "    \n",
    "## Table of Contents\n",
    "\n",
    "</div>\n",
    "\n",
    "[1. Qestion 4](#Question4) <br>\n",
    "[2. Qestion 5](#Question5) <br>"
   ]
  },
  {
   "cell_type": "markdown",
   "id": "28ae15b2",
   "metadata": {},
   "source": [
    "<div class=\"alert alert-block alert-success\">\n",
    "    \n",
    "## Question 4  <a class=\"anchor\" name=\"Question4\"></a>"
   ]
  },
  {
   "cell_type": "markdown",
   "id": "f38389b7",
   "metadata": {},
   "source": [
    "**I.** Implement a Python function that simulates the above experiment (using a suitable method\n",
    "of a numpy random number generator obtained via numpy.random.get default rng). For\n",
    "instance you could name the function fruit experiment and it could take a parameter for\n",
    "the number of repeated simulations. When calling fruit experiment(4) the output could.\n"
   ]
  },
  {
   "cell_type": "code",
   "execution_count": 3,
   "id": "aed2782a",
   "metadata": {},
   "outputs": [],
   "source": [
    "# define fruit exoeriment function\n",
    "def fruit_experiment(n_rep= 1):\n",
    "    # define items in boxes\n",
    "    boxes = np.array(['red', 'blue', 'yellow'], dtype='object')\n",
    "    \n",
    "    # items in each boxes\n",
    "    red_box = np.array(['orange', 'orange','orange','orange', 'orange', 'apple', 'apple', 'apple'])\n",
    "    blue_box = np.array(['orange', 'orange','orange','orange', 'apple', 'apple', 'apple', 'apple'])\n",
    "    yellow_box = np.array(['orange', 'apple'])\n",
    "    \n",
    "    \n",
    "    \n",
    "    \n",
    "    result_fruits = np.array([], dtype='object')\n",
    "    result_boxes = np.array([], dtype='object')\n",
    "    \n",
    "    # repetitions \n",
    "    for i in range(1, n_rep+1):\n",
    "        RNG = np.random.default_rng(i)\n",
    "        ran_box = RNG.choice(boxes)\n",
    "        result_boxes = np.append(result_boxes, ran_box)\n",
    "        \n",
    "        if ran_box == 'red':\n",
    "            ran_fruit = RNG.choice(red_box)\n",
    "            result_fruits = np.append(result_fruits, ran_fruit)\n",
    "\n",
    "        elif ran_box == 'blue':\n",
    "            ran_fruit = RNG.choice(blue_box)\n",
    "            result_fruits = np.append(result_fruits, ran_fruit)\n",
    "\n",
    "        else:\n",
    "            ran_fruit = RNG.choice(yellow_box)\n",
    "            result_fruits = np.append(result_fruits, ran_fruit)\n",
    "            \n",
    "    return result_boxes, result_fruits"
   ]
  },
  {
   "cell_type": "markdown",
   "id": "c2dde36d",
   "metadata": {},
   "source": [
    "-------------"
   ]
  },
  {
   "cell_type": "markdown",
   "id": "418bb11a",
   "metadata": {},
   "source": [
    "**II.** Answer the following question by a formal derivation in a markdown cell (ideally using Latex\n",
    "for clean typesetting): If the picked fruit is an apple, what is the probability that it was picked\n",
    "from the yellow box?\n",
    "Hint: Formalise this problem using the notions in the “Random Variable” paragraph in\n",
    "Appendix A of Module 1. You might want to use your simulation function from Part I to\n",
    "check your answer."
   ]
  },
  {
   "cell_type": "markdown",
   "id": "2f39e5a4",
   "metadata": {},
   "source": [
    "Define $B$ as a random variable, where $$B \\in \\{\\text{red, blue, yellow}\\}$$.\n",
    "\n",
    "Define $F$ as a random variable, where\n",
    "$$F \\in \\{\\text{orange, apple}\\}$$.\n",
    "\n",
    "We want to slove:\n",
    "$$\n",
    "p(B = \\text{yellow} | \\text{apple})\\\\\n",
    "p(B = \\text{ yellow} | F=\\text{ apple}) = \\frac{p(F = \\text{ apple} | B=\\text{ yellow})}{p(F=\\text{ apple})}\n",
    "$$\n",
    "\n",
    "$$\n",
    "p(B = \\text{yellow} | \\text{apple}) = \\frac{\\frac{1}{2} \\times \\frac{1}{3}}{\\frac{1}{3} \\times \\frac{3}{8} + \\frac{1}{3} \\times \\frac{4}{8} + \\frac{1}{3} \\times \\frac{1}{2}} $$\n",
    "\n",
    "$$p(B = \\text{yellow} | \\text{apple}) \\approx 0.36$$"
   ]
  },
  {
   "cell_type": "code",
   "execution_count": 4,
   "id": "14a9ff25",
   "metadata": {},
   "outputs": [
    {
     "data": {
      "text/plain": [
       "0.3726227333038478"
      ]
     },
     "execution_count": 4,
     "metadata": {},
     "output_type": "execute_result"
    }
   ],
   "source": [
    "# simulation\n",
    "num_sim = 10000\n",
    "boxes, fruits = fruit_experiment(num_sim)\n",
    "\n",
    "p_yellow = len(boxes[boxes == 'yellow']) / num_sim\n",
    "p_red = len(boxes[boxes == 'red']) / num_sim\n",
    "p_blue = len(boxes[boxes == 'blue']) / num_sim\n",
    "\n",
    "\n",
    "p_apple_yellow =  (np.count_nonzero(fruits[boxes == 'yellow'] == 'apple')/len(fruits[boxes == 'yellow']))\n",
    "p_apple_red = (np.count_nonzero(fruits[boxes == 'red'] == 'apple')/len(fruits[boxes == 'red']))\n",
    "p_apple_blue = (np.count_nonzero(fruits[boxes == 'blue'] == 'apple')/len(fruits[boxes == 'blue']))\n",
    "\n",
    "p_apple = p_apple_yellow * p_yellow + p_apple_red * p_red + p_apple_blue * p_blue\n",
    "\n",
    "p_apple_yellow = p_apple_yellow * p_yellow / p_apple\n",
    "\n",
    "p_apple_yellow"
   ]
  },
  {
   "cell_type": "markdown",
   "id": "1e2e8d6e",
   "metadata": {},
   "source": [
    "**Answer**"
   ]
  },
  {
   "cell_type": "markdown",
   "id": "3d72fe77",
   "metadata": {},
   "source": [
    "The result from the experiment is 0.3675 which is similar to the theoritical result from above."
   ]
  },
  {
   "cell_type": "markdown",
   "id": "89ecfb5f",
   "metadata": {},
   "source": [
    "-------------------"
   ]
  },
  {
   "cell_type": "markdown",
   "id": "f3d58128",
   "metadata": {},
   "source": [
    "<div class=\"alert alert-block alert-success\">\n",
    "    \n",
    "## Question 5  <a class=\"anchor\" name=\"Question5\"></a>"
   ]
  },
  {
   "cell_type": "markdown",
   "id": "f0887665",
   "metadata": {},
   "source": [
    "Consider the following simple one-player\n",
    "game: the player first rolls a fair six-sided die and then she determines her score as the sum of the\n",
    "outcomes of a number of a additional die roles, where the number of additionally rolled dice is equal\n",
    "to the number rolled with the first die. Formally, we can describe this game with a set of random\n",
    "variables:\n",
    " - X, the outcome of the first die roll\n",
    " - Yi for i = 1, . . . 6, the outcome of the i-th subsequent die role if i ≤ X or 0 otherwise.\n",
    " - Z = Y1 + Y2 + Y3 + Y4 + Y5 + Y6, the final score of the player.\n",
    "We are interested in experimentally and analytically determining the score that a player can expect\n",
    "to achieve in this game on average, i.e., the expected value E[Z]."
   ]
  },
  {
   "cell_type": "markdown",
   "id": "2f903257",
   "metadata": {},
   "source": [
    "**I.** Implement a Python function die experiment that simulates the above game for a desired\n",
    "number of repetitions and returns the array of scores achieved by the player for each repetition.\n"
   ]
  },
  {
   "cell_type": "code",
   "execution_count": 5,
   "id": "a6458449",
   "metadata": {},
   "outputs": [],
   "source": [
    "def die_experiment(num_rep=1):\n",
    "    sum_result = []\n",
    "    \n",
    "    for i in range(num_rep+1):\n",
    "        sum_i = 0\n",
    "    \n",
    "        RNG_first = np.random.default_rng()\n",
    "        first_roll = RNG_first.choice(list(range(1, 7)))\n",
    "        \n",
    "        \n",
    "        for j in range(first_roll): \n",
    "            RNG_y = np.random.default_rng()\n",
    "            y = RNG_y.choice(list(range(1, 7))) \n",
    "            sum_i += y\n",
    "\n",
    "        sum_result.append(sum_i)\n",
    "        \n",
    "    return sum_result"
   ]
  },
  {
   "cell_type": "markdown",
   "id": "2d57f9b1",
   "metadata": {},
   "source": [
    "------------------"
   ]
  },
  {
   "cell_type": "markdown",
   "id": "dfb7a1b3",
   "metadata": {},
   "source": [
    "**II.** Estimate the expected player score E[Z] by performing 10,000 repetitions and provide an\n",
    "error margin of this estimate with 95% certainty.\n"
   ]
  },
  {
   "cell_type": "code",
   "execution_count": 6,
   "id": "5381cdc0",
   "metadata": {},
   "outputs": [
    {
     "data": {
      "text/plain": [
       "12.223077692230778"
      ]
     },
     "execution_count": 6,
     "metadata": {},
     "output_type": "execute_result"
    }
   ],
   "source": [
    "# find E[Z]\n",
    "result = die_experiment(10000)\n",
    "np.mean(result)"
   ]
  },
  {
   "cell_type": "code",
   "execution_count": 7,
   "id": "71e68129",
   "metadata": {},
   "outputs": [
    {
     "data": {
      "text/plain": [
       "6.700510553882819"
      ]
     },
     "execution_count": 7,
     "metadata": {},
     "output_type": "execute_result"
    }
   ],
   "source": [
    "np.std(result)"
   ]
  },
  {
   "cell_type": "markdown",
   "id": "32f6bb6e",
   "metadata": {},
   "source": [
    "**Answer**"
   ]
  },
  {
   "cell_type": "markdown",
   "id": "01f48eae",
   "metadata": {},
   "source": [
    "At 95% of confident interval $Z = \\pm1.96$\n",
    "$$p(-1.96 < \\frac{x-\\mu}{\\sigma/\\sqrt{n}} < 1.96) = 0.95$$\n",
    "hence confident interval \n",
    "$$ (\\mu \\pm 1.96\\frac{\\sigma}{\\sqrt{n}})$$\n",
    "$$ CI = (12.223 \\pm 1.96\\frac{6.700}{\\sqrt{10000}})$$\n",
    "$$CI = (12.092,12.354)$$\n",
    "with $$\\text{marginal error} = 0.131$$"
   ]
  },
  {
   "cell_type": "markdown",
   "id": "027cf6d9",
   "metadata": {},
   "source": [
    "-------------------"
   ]
  },
  {
   "cell_type": "markdown",
   "id": "389f57d0",
   "metadata": {},
   "source": [
    "**III.** Analytically derive the expected value E[Z] in a markdown cell (using Latex formulae for\n",
    "clean typesetting)."
   ]
  },
  {
   "cell_type": "markdown",
   "id": "e2294a3c",
   "metadata": {},
   "source": [
    "**Answer**"
   ]
  },
  {
   "cell_type": "markdown",
   "id": "f0fb64d6",
   "metadata": {},
   "source": [
    "Solve for $E[Z]$\n",
    "From law of total expectation $$E[Z] = E_X[E[Z|X]]$$\n",
    "Since $$E[Z|X] = \\sum_z zp(z|X)$$\n",
    "Let sum of one die is a $$E[a] = \\frac{1}{6} + \\frac{2}{6} + \\frac{3}{6} + \\frac{4}{6} + \\frac{5}{6} + \\frac{6}{6} = \\frac{21}{6}$$\n",
    "\n",
    "$$E[Z|X=1] = E[a]$$\n",
    "$$E[Z|X=2] = 2E[a]$$\n",
    "$$.$$\n",
    "$$.$$\n",
    "$$.$$\n",
    "$$E[Z|X=6] = 6E[a]$$\n",
    "Hece, $$E[Z|X] = (1+2+3+4+5+6) \\times E[a] = 73.25$$\n",
    "\n",
    "From the total expectation law\n",
    "$$E[Z] = E_X[E[Z|X]] = \\sum_x p(x) E[Z|X=x]$$\n",
    "And since the dice is fair $$p(X=x) = \\frac{1}{6}$$\n",
    "$$E[Z] = \\frac{1}{6} \\sum_x  E[Z|X=x]$$\n",
    "\n",
    "$$ = \\frac{73.25}{6}$$\n",
    "$$ = 12.25$$"
   ]
  }
 ],
 "metadata": {
  "kernelspec": {
   "display_name": "Python 3 (ipykernel)",
   "language": "python",
   "name": "python3"
  },
  "language_info": {
   "codemirror_mode": {
    "name": "ipython",
    "version": 3
   },
   "file_extension": ".py",
   "mimetype": "text/x-python",
   "name": "python",
   "nbconvert_exporter": "python",
   "pygments_lexer": "ipython3",
   "version": "3.9.13"
  }
 },
 "nbformat": 4,
 "nbformat_minor": 5
}
