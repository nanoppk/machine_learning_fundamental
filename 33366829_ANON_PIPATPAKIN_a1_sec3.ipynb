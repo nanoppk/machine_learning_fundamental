{
 "cells": [
  {
   "cell_type": "markdown",
   "id": "a6fd7067",
   "metadata": {},
   "source": [
    "<div class=\"alert alert-block alert-danger\">\n",
    "\n",
    "#### Student Name: Anon Pipatpakin\n",
    "#### Student ID: 33366829\n",
    "# Ridge Regression\n",
    "    \n",
    "\n",
    "</div>"
   ]
  },
  {
   "cell_type": "markdown",
   "id": "9342ac15",
   "metadata": {},
   "source": [
    "<div class=\"alert alert-block alert-info\">\n",
    "    \n",
    "## Libaries and train test split\n",
    "\n",
    "</div>"
   ]
  },
  {
   "cell_type": "code",
   "execution_count": 1,
   "id": "a7f8fdd1",
   "metadata": {},
   "outputs": [],
   "source": [
    "# use train test split from the class\n",
    "def train_test_split(x, y, train_size=0.6, random_state=None):\n",
    "    RNG = np.random.default_rng(random_state)\n",
    "    N = len(x)\n",
    "    N_train = round(N*train_size)\n",
    "    idx_train = RNG.choice(N, N_train, replace=False)\n",
    "    idx_test = np.setdiff1d(np.arange(N), idx_train)\n",
    "    RNG.shuffle(idx_test)\n",
    "    return x[idx_train], x[idx_test], y[idx_train], y[idx_test]"
   ]
  },
  {
   "cell_type": "code",
   "execution_count": 2,
   "id": "9c6b8fb6",
   "metadata": {},
   "outputs": [],
   "source": [
    "# Import libaries\n",
    "from sklearn.base import BaseEstimator\n",
    "from scipy.spatial import KDTree\n",
    "import numpy as np\n",
    "from sklearn.datasets import load_diabetes, fetch_california_housing\n",
    "from matplotlib import pyplot as plt\n",
    "from sklearn.metrics import mean_squared_error\n",
    "from sklearn.base import BaseEstimator\n",
    "from sklearn.pipeline import make_pipeline\n",
    "from sklearn.preprocessing import StandardScaler"
   ]
  },
  {
   "cell_type": "markdown",
   "id": "630dcee2",
   "metadata": {},
   "source": [
    "<div class=\"alert alert-block alert-info\">\n",
    "    \n",
    "## Table of Contents\n",
    "\n",
    "</div>\n",
    "\n",
    "[1. Qestion 6](#Question6) <br>"
   ]
  },
  {
   "cell_type": "markdown",
   "id": "751a30cf",
   "metadata": {},
   "source": [
    "<div class=\"alert alert-block alert-success\">\n",
    "    \n",
    "## Question 6  <a class=\"anchor\" name=\"Question6\"></a>"
   ]
  },
  {
   "cell_type": "markdown",
   "id": "2ab8e220",
   "metadata": {},
   "source": [
    "**I.** Derive the weight update steps of stochastic gradient descent (SGD) for linear regression\n",
    "with L2 regularisation norm or a system of linear equations that uniquely determine the\n",
    "minimum of the regularised error function. Give this derivation with enough explanation in a\n",
    "markdown cell (ideally using Latex for readable math typesetting). The starting point is the\n",
    "definition of the regularised error function and the end result is either the weight update step\n",
    "for this function in (stochastic) gradient descent or a system of linear equations described in\n",
    "matrix/vector notation. In both cases, you have to derive the gradient as an intermediate\n",
    "step.\n",
    "Hint: Recall that for linear regression we defined the error function E. For this assignment,\n",
    "you only need to add an L2 regularization term to the error function (error term plus the\n",
    "regularization term). This question is similar to Activity 2.1 of Module 2."
   ]
  },
  {
   "cell_type": "markdown",
   "id": "f520afd2",
   "metadata": {},
   "source": [
    "**Answer**"
   ]
  },
  {
   "cell_type": "markdown",
   "id": "3a808816",
   "metadata": {},
   "source": [
    "The definition of regularised error function \n",
    "$$\n",
    "E(w) = RSS + L_2\\text{ penalty}\n",
    "$$\n",
    "In matrix form \n",
    "\\begin{equation}\n",
    "E(\\boldsymbol{w})  = \\frac{1}{2N}(\\boldsymbol{t}- \\Phi(\\boldsymbol{X})\\boldsymbol{w})^T(\\boldsymbol{t}- \\Phi(\\boldsymbol{X})\\boldsymbol{w}) + \\lambda\\boldsymbol{w}^T\\boldsymbol{w}\\\\\n",
    "E(\\boldsymbol{w}) = \\frac{1}{2N}(\\boldsymbol{t}^T- \\boldsymbol{w}^T\\Phi(\\boldsymbol{X})^T)(\\boldsymbol{t}- \\Phi(\\boldsymbol{X})\\boldsymbol{w}) + \\lambda\\boldsymbol{w}^T\\boldsymbol{w}\\\\\n",
    "E(\\boldsymbol{w}) = \\frac{1}{2N}(\\boldsymbol{t}^T\\boldsymbol{t} - \\boldsymbol{w}^T\\Phi(\\boldsymbol{X})^T\\boldsymbol{t} - \\boldsymbol{t}^T\\Phi(\\boldsymbol{X})\\boldsymbol{w} + \\boldsymbol{w}^T\\Phi(\\boldsymbol{X})^T\\Phi(\\boldsymbol{X})\\boldsymbol{w}) + \\lambda \\boldsymbol{w}^T\\boldsymbol{w}\\\\\n",
    "\\end{equation}\n",
    "\n",
    "From transpose rules\n",
    "$$\\boldsymbol{w}^T\\Phi(\\boldsymbol{X})^T\\boldsymbol{t} = (\\boldsymbol{t}^T\\Phi(\\boldsymbol{X})\\boldsymbol{w})^T$$\n",
    "\n",
    "And the final form of \n",
    "$$\\boldsymbol{t}^T\\Phi(\\boldsymbol{X})\\boldsymbol{w} = Scalar$$\n",
    "\n",
    "Hence \n",
    "$$E(\\boldsymbol{w}) = \\frac{1}{2N}(\\boldsymbol{t}^T\\boldsymbol{t} - 2\\boldsymbol{w}^T\\Phi(\\boldsymbol{X})^T\\boldsymbol{t} + \\boldsymbol{w}^T\\Phi(\\boldsymbol{X})^T\\Phi(\\boldsymbol{X})\\boldsymbol{w}) + \\lambda \\boldsymbol{w}^T\\boldsymbol{w}\\\\\n",
    "$$\n",
    "\n",
    "Next, solve for direct answer of minimizing $E(\\boldsymbol{w})$  \n",
    "\n",
    "$$\\frac {\\partial {E(\\boldsymbol{w})}}{ \\partial{\\boldsymbol{w}}} = 0$$\n",
    "\n",
    "\\begin{equation}\n",
    "\\frac{\\partial \\frac{1}{2N}(\\boldsymbol{t}^T\\boldsymbol{t} - 2\\boldsymbol{w}^T\\Phi(\\boldsymbol{X})^T\\boldsymbol{t} + \\boldsymbol{w}^T\\Phi(\\boldsymbol{X})^T\\Phi(\\boldsymbol{X})\\boldsymbol{w}) + \\lambda \\boldsymbol{w}^T\\boldsymbol{w}}{\\partial \\boldsymbol{w}} = 0\\\\\n",
    " \\frac{1}{N}(\\Phi(\\boldsymbol{X})^T\\Phi(\\boldsymbol{X})\\boldsymbol{w} -\\Phi^T(\\boldsymbol{X})\\boldsymbol{t}) + 2\\lambda \\boldsymbol{w} = 0 \\\\\n",
    "\\end{equation}\n",
    "\n",
    "Since $2 N \\lambda $ is a constant, so we can merge them to one constant $\\lambda$\n",
    "\n",
    "\\begin{equation}\n",
    "2 N \\lambda \\boldsymbol{w} + \\Phi(X)^T \\Phi(X)\\boldsymbol{w} = \\Phi(X) \\boldsymbol{t}\\\\\n",
    "\\lambda \\boldsymbol{I} \\boldsymbol{w} +  \\Phi(X)^T \\Phi(X)\\boldsymbol{w} = \\Phi(X) \\boldsymbol{t}\\\\ \n",
    "(\\lambda \\boldsymbol{I} +  \\Phi(X)^T \\Phi(X))\\boldsymbol{w} = \\Phi(X) \\boldsymbol{t}\\\\\n",
    "\\boldsymbol{w} = (\\lambda \\boldsymbol{I} +  \\Phi(X)^T \\Phi(X))^{-1} \\Phi(X) \\boldsymbol{t}\n",
    "\\end{equation}\n"
   ]
  },
  {
   "cell_type": "markdown",
   "id": "26d010e3",
   "metadata": {},
   "source": [
    "------------------------"
   ]
  },
  {
   "cell_type": "markdown",
   "id": "a5f7c23f",
   "metadata": {},
   "source": [
    "**II.** Using the analytically derived gradient from Step I, implement either a direct or a (stochastic)\n",
    "gradient descent algorithm for Ridge Regression (use again the usual template with init ,\n",
    "fit, and predict methods. You cannot use any import from sklearn.linear model for this\n",
    "task."
   ]
  },
  {
   "cell_type": "code",
   "execution_count": 3,
   "id": "e65e007e",
   "metadata": {},
   "outputs": [],
   "source": [
    "class RidgeRegression:\n",
    "    \n",
    "    def __init__(self, alpha= 0.01):\n",
    "        self.alpha = alpha\n",
    "        \n",
    "        \n",
    "    def fit(self, x, y):\n",
    "        y = y.ravel()\n",
    "        n, p = x.shape\n",
    "        # create a space to store the result of each iteration\n",
    "        I = np.eye(p)\n",
    "        invert_matrix = np.linalg.inv(x.T @ x + self.alpha *I)\n",
    "        \n",
    "        self.coef_ = invert_matrix @ x.T @ y\n",
    "        return self\n",
    "    \n",
    "    \n",
    "    def predict(self, x):\n",
    "        return x @ self.coef_"
   ]
  },
  {
   "cell_type": "markdown",
   "id": "001dd202",
   "metadata": {},
   "source": [
    "------------------------"
   ]
  },
  {
   "cell_type": "markdown",
   "id": "78279edc",
   "metadata": {},
   "source": [
    "**III.** Study the effect of the L2-regularization on the training and testing errors, using the synthetic\n",
    "data generator from Activity 2.3. i.e., where data is generated according to"
   ]
  },
  {
   "cell_type": "markdown",
   "id": "307c331f",
   "metadata": {},
   "source": [
    "$$\n",
    "X \\sim Uniform(-0.3, 0.3)\\\\\n",
    "Y = \\frac{sin(5\\pi x)}{1+2x} + \\epsilon \\\\\n",
    "\\epsilon \\sim N(0, 0.1)\n",
    "$$"
   ]
  },
  {
   "cell_type": "markdown",
   "id": "03ee3735",
   "metadata": {},
   "source": [
    "**a.** Consider the ridge regression model for each λ in {10−10+9i/100\n",
    ", . . . , 10−1\n",
    ": 0 ≤ i ≤ 100}\n",
    "by creating a pipeline of your implemented ridge regressor with a polynomial feature\n",
    "transformer with degree 5.\n"
   ]
  },
  {
   "cell_type": "code",
   "execution_count": 4,
   "id": "4fbd8f8c",
   "metadata": {},
   "outputs": [],
   "source": [
    "def f(x):\n",
    "    y = (np.sin(5 * np.pi * x) / (1 + 2 * x))\n",
    "    return y\n",
    "\n",
    "def make_additive_noise_data(n, f, a, b, noise=0.1**0.5, random_state=1):\n",
    "    RNG = np.random.default_rng(random_state)\n",
    "    x = RNG.uniform(a, b, size=(n, 1))\n",
    "    y = f(x) + RNG.normal(0, noise, size=(n, 1))\n",
    "    return x, y\n",
    "\n",
    "class PolynomialFeatures:\n",
    "\n",
    "    def __init__(self, degree):\n",
    "        self.degree = degree\n",
    "\n",
    "    def fit(self, x, y=None):\n",
    "        return self\n",
    "\n",
    "    def transform(self, x, y=None):\n",
    "        output = []\n",
    "        for i in range(0, self.degree+1):\n",
    "            column = x**i\n",
    "            output.append(column)\n",
    "        return np.column_stack(output)\n",
    "\n",
    "    def fit_transform(self, x, y=None):\n",
    "        self.fit(x, y)\n",
    "        return self.transform(x, y)"
   ]
  },
  {
   "cell_type": "markdown",
   "id": "ac0de42e",
   "metadata": {},
   "source": [
    "**b.** Fit each model at least ten times (resampling a training dataset of size 20 each time)\n",
    "for all choices of λ. To reduce the variance of the experiment make sure that for each\n",
    "repetition all models use the same training dataset (i.e., make the repetitions the outer\n",
    "loop and the choices of λ the inner loop, and sample only one training set per outer\n",
    "loop)."
   ]
  },
  {
   "cell_type": "code",
   "execution_count": 5,
   "id": "1cc71dcc",
   "metadata": {},
   "outputs": [],
   "source": [
    "# hyperparameters\n",
    "lambda_list = np.geomspace(10**-10, 0.1, 101, endpoint=True)\n",
    "num_rep = 300\n",
    "\n",
    "# create arrays to store MSE values\n",
    "train_mse = np.zeros((num_rep, len(lambda_list)))\n",
    "test_mse = np.zeros((num_rep, len(lambda_list)))\n",
    "\n",
    "# repeat the experiment for different training sets\n",
    "for rep in range(num_rep):\n",
    "    x_train, y_train = make_additive_noise_data(20, f, -0.3, 0.3, random_state= None)\n",
    "    x_test, y_test = make_additive_noise_data(20, f, -0.3, 0.3, random_state= 99)\n",
    "    \n",
    "    poly = PolynomialFeatures(degree=5)\n",
    "\n",
    "    for i, alpha in enumerate(lambda_list):\n",
    "        poly_then_ridge = make_pipeline(PolynomialFeatures(degree=5), StandardScaler(), RidgeRegression(alpha=alpha))\n",
    "        poly_then_ridge.fit(x_train, y_train) \n",
    "        \n",
    "        test_y_hat = poly_then_ridge.predict(x_test)                                \n",
    "        train_y_hat = poly_then_ridge.predict(x_train)\n",
    "        \n",
    "        # mean score error for each lambda\n",
    "        test_mse_score = mean_squared_error(y_true=y_test, y_pred=test_y_hat)\n",
    "        train_mse_score = mean_squared_error(y_true=y_train, y_pred=train_y_hat)\n",
    "                                        \n",
    "        train_mse[rep, i] = train_mse_score\n",
    "        test_mse[rep, i] = test_mse_score\n",
    "\n",
    "# calculate mean MSE for each lambda\n",
    "mean_train_mse = np.mean(train_mse, axis=0)\n",
    "mean_test_mse = np.mean(test_mse, axis=0)"
   ]
  },
  {
   "cell_type": "markdown",
   "id": "0f46dee4",
   "metadata": {},
   "source": [
    "**c.** Create a plot of mean squared errors (use different colors for the training and testing\n",
    "errors), where the x-axis is log lambda and y-axis is the log mean squared error. Discuss\n",
    "λ, model complexity, and error rates, corresponding to underfitting and overfitting, by\n",
    "observing your plot.\n",
    "Hint: For log-scaling an axis you can use, e.g., pyplot.x scale(’log’).\n"
   ]
  },
  {
   "cell_type": "code",
   "execution_count": 6,
   "id": "2e4b7e04",
   "metadata": {},
   "outputs": [
    {
     "data": {
      "image/png": "[encoded data removed]",
      "text/plain": [
       "<Figure size 1000x600 with 1 Axes>"
      ]
     },
     "metadata": {},
     "output_type": "display_data"
    }
   ],
   "source": [
    "# plot results\n",
    "plt.figure(figsize=(10, 6))\n",
    "plt.plot(lambda_list, mean_train_mse, label='Training MSE', marker='o')\n",
    "plt.plot(lambda_list, mean_test_mse, label='Testing MSE', marker='o')\n",
    "plt.xlabel('Log Lambda')\n",
    "plt.ylabel('Log MSE')\n",
    "plt.xscale('log')\n",
    "plt.yscale('log')\n",
    "plt.legend()\n",
    "plt.title('Effect of L2-Regularization on MSE')\n",
    "plt.grid()\n",
    "plt.show()"
   ]
  },
  {
   "cell_type": "markdown",
   "id": "a617705e",
   "metadata": {},
   "source": [
    "**Answer**"
   ]
  },
  {
   "cell_type": "markdown",
   "id": "eb04820d",
   "metadata": {},
   "source": [
    "When $\\lambda$ is samll know from the equation that L2 pennalty will be nominant by parameters $\\boldsymbol{w}$ that make models flexible(high complexity) which also lead to overfitting.\n",
    "With hihger $\\lambda$, the MSE gaps between training and test are getting smaller, because $\\lambda$ has high impact on L2 term. Hence, lead to small values of $\\boldsymbol{w}$ and less flexible models (change on x has less effet on y). At the highest $\\lambda$, we can clearly see that the performances of the model on both training and testing are poor, which clearly indicate the underfitting."
   ]
  }
 ],
 "metadata": {
  "kernelspec": {
   "display_name": "Python 3 (ipykernel)",
   "language": "python",
   "name": "python3"
  },
  "language_info": {
   "codemirror_mode": {
    "name": "ipython",
    "version": 3
   },
   "file_extension": ".py",
   "mimetype": "text/x-python",
   "name": "python",
   "nbconvert_exporter": "python",
   "pygments_lexer": "ipython3",
   "version": "3.9.13"
  }
 },
 "nbformat": 4,
 "nbformat_minor": 5
}
