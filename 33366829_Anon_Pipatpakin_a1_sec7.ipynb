{
 "cells": [
  {
   "cell_type": "markdown",
   "id": "a01afdc1",
   "metadata": {},
   "source": [
    "<div class=\"alert alert-block alert-danger\">\n",
    "\n",
    "#### Student Name: Anon Pipatpakin\n",
    "#### Student ID: 33366829\n",
    "# Unsupervised Learning\n",
    "    \n",
    "\n",
    "</div>"
   ]
  },
  {
   "cell_type": "markdown",
   "id": "651e7bf2",
   "metadata": {},
   "source": [
    "<div class=\"alert alert-block alert-info\">\n",
    "    \n",
    "## Libaries\n",
    "\n",
    "</div>"
   ]
  },
  {
   "cell_type": "code",
   "execution_count": 1,
   "id": "1f3d7515",
   "metadata": {},
   "outputs": [],
   "source": [
    "import torch\n",
    "import numpy as np\n",
    "from matplotlib import pyplot as plt\n",
    "from matplotlib import cm as cm\n",
    "from sklearn.decomposition import PCA\n",
    "from Activity5 import *\n",
    "import pandas as pd\n",
    "from sklearn.neural_network import MLPClassifier, MLPRegressor"
   ]
  },
  {
   "cell_type": "markdown",
   "id": "90f66fdc",
   "metadata": {},
   "source": [
    "## Question 3"
   ]
  },
  {
   "cell_type": "markdown",
   "id": "df92391a",
   "metadata": {},
   "source": [
    "**I.** Load Task2C labeled.csv, Task2C unlabeled.csv, and Task2C test.csv datasets, along with\n",
    "the required libraries. Note that we will use both Task2C labeled.csv and Task2C unlabeled.csv\n",
    "to train the autoencoder, and only Task2C labeled.csv to train the classifiers. Finally, we will\n",
    "evaluate the trained classifier on the test dataset Task2C test.csv.\n",
    "\n"
   ]
  },
  {
   "cell_type": "markdown",
   "id": "e1c544ea",
   "metadata": {},
   "source": [
    "**loading data**"
   ]
  },
  {
   "cell_type": "code",
   "execution_count": 2,
   "id": "98522599",
   "metadata": {},
   "outputs": [],
   "source": [
    "labeled_df = pd.read_csv(\"Task2C_labeled.csv\") \n",
    "test_df = pd.read_csv(\"Task2C_test.csv\")\n",
    "unlabeled_df = pd.read_csv(\"Task2C_unlabeled.csv\")"
   ]
  },
  {
   "cell_type": "code",
   "execution_count": 3,
   "id": "5696bc3b",
   "metadata": {},
   "outputs": [
    {
     "data": {
      "text/plain": [
       "(50, 785)"
      ]
     },
     "execution_count": 3,
     "metadata": {},
     "output_type": "execute_result"
    }
   ],
   "source": [
    "labeled_df.shape"
   ]
  },
  {
   "cell_type": "code",
   "execution_count": 4,
   "id": "645f7f74",
   "metadata": {},
   "outputs": [
    {
     "data": {
      "text/html": [
       "<div>\n",
       "<style scoped>\n",
       "    .dataframe tbody tr th:only-of-type {\n",
       "        vertical-align: middle;\n",
       "    }\n",
       "\n",
       "    .dataframe tbody tr th {\n",
       "        vertical-align: top;\n",
       "    }\n",
       "\n",
       "    .dataframe thead th {\n",
       "        text-align: right;\n",
       "    }\n",
       "</style>\n",
       "<table border=\"1\" class=\"dataframe\">\n",
       "  <thead>\n",
       "    <tr style=\"text-align: right;\">\n",
       "      <th></th>\n",
       "      <th>label</th>\n",
       "      <th>pixel_0</th>\n",
       "      <th>pixel_1</th>\n",
       "      <th>pixel_2</th>\n",
       "      <th>pixel_3</th>\n",
       "      <th>pixel_4</th>\n",
       "      <th>pixel_5</th>\n",
       "      <th>pixel_6</th>\n",
       "      <th>pixel_7</th>\n",
       "      <th>pixel_8</th>\n",
       "      <th>...</th>\n",
       "      <th>pixel_774</th>\n",
       "      <th>pixel_775</th>\n",
       "      <th>pixel_776</th>\n",
       "      <th>pixel_777</th>\n",
       "      <th>pixel_778</th>\n",
       "      <th>pixel_779</th>\n",
       "      <th>pixel_780</th>\n",
       "      <th>pixel_781</th>\n",
       "      <th>pixel_782</th>\n",
       "      <th>pixel_783</th>\n",
       "    </tr>\n",
       "  </thead>\n",
       "  <tbody>\n",
       "    <tr>\n",
       "      <th>0</th>\n",
       "      <td>0</td>\n",
       "      <td>0</td>\n",
       "      <td>0</td>\n",
       "      <td>0</td>\n",
       "      <td>0</td>\n",
       "      <td>0</td>\n",
       "      <td>0</td>\n",
       "      <td>0</td>\n",
       "      <td>0</td>\n",
       "      <td>0</td>\n",
       "      <td>...</td>\n",
       "      <td>0</td>\n",
       "      <td>0</td>\n",
       "      <td>0</td>\n",
       "      <td>0</td>\n",
       "      <td>0</td>\n",
       "      <td>0</td>\n",
       "      <td>0</td>\n",
       "      <td>0</td>\n",
       "      <td>0</td>\n",
       "      <td>0</td>\n",
       "    </tr>\n",
       "    <tr>\n",
       "      <th>1</th>\n",
       "      <td>7</td>\n",
       "      <td>0</td>\n",
       "      <td>0</td>\n",
       "      <td>0</td>\n",
       "      <td>0</td>\n",
       "      <td>0</td>\n",
       "      <td>0</td>\n",
       "      <td>0</td>\n",
       "      <td>0</td>\n",
       "      <td>0</td>\n",
       "      <td>...</td>\n",
       "      <td>0</td>\n",
       "      <td>0</td>\n",
       "      <td>0</td>\n",
       "      <td>0</td>\n",
       "      <td>0</td>\n",
       "      <td>0</td>\n",
       "      <td>0</td>\n",
       "      <td>0</td>\n",
       "      <td>0</td>\n",
       "      <td>0</td>\n",
       "    </tr>\n",
       "    <tr>\n",
       "      <th>2</th>\n",
       "      <td>1</td>\n",
       "      <td>0</td>\n",
       "      <td>0</td>\n",
       "      <td>0</td>\n",
       "      <td>0</td>\n",
       "      <td>0</td>\n",
       "      <td>0</td>\n",
       "      <td>0</td>\n",
       "      <td>0</td>\n",
       "      <td>0</td>\n",
       "      <td>...</td>\n",
       "      <td>0</td>\n",
       "      <td>0</td>\n",
       "      <td>0</td>\n",
       "      <td>0</td>\n",
       "      <td>0</td>\n",
       "      <td>0</td>\n",
       "      <td>0</td>\n",
       "      <td>0</td>\n",
       "      <td>0</td>\n",
       "      <td>0</td>\n",
       "    </tr>\n",
       "    <tr>\n",
       "      <th>3</th>\n",
       "      <td>1</td>\n",
       "      <td>0</td>\n",
       "      <td>0</td>\n",
       "      <td>0</td>\n",
       "      <td>0</td>\n",
       "      <td>0</td>\n",
       "      <td>0</td>\n",
       "      <td>0</td>\n",
       "      <td>0</td>\n",
       "      <td>0</td>\n",
       "      <td>...</td>\n",
       "      <td>0</td>\n",
       "      <td>0</td>\n",
       "      <td>0</td>\n",
       "      <td>0</td>\n",
       "      <td>0</td>\n",
       "      <td>0</td>\n",
       "      <td>0</td>\n",
       "      <td>0</td>\n",
       "      <td>0</td>\n",
       "      <td>0</td>\n",
       "    </tr>\n",
       "    <tr>\n",
       "      <th>4</th>\n",
       "      <td>4</td>\n",
       "      <td>0</td>\n",
       "      <td>0</td>\n",
       "      <td>0</td>\n",
       "      <td>0</td>\n",
       "      <td>0</td>\n",
       "      <td>0</td>\n",
       "      <td>0</td>\n",
       "      <td>0</td>\n",
       "      <td>0</td>\n",
       "      <td>...</td>\n",
       "      <td>0</td>\n",
       "      <td>0</td>\n",
       "      <td>0</td>\n",
       "      <td>0</td>\n",
       "      <td>0</td>\n",
       "      <td>0</td>\n",
       "      <td>0</td>\n",
       "      <td>0</td>\n",
       "      <td>0</td>\n",
       "      <td>0</td>\n",
       "    </tr>\n",
       "  </tbody>\n",
       "</table>\n",
       "<p>5 rows × 785 columns</p>\n",
       "</div>"
      ],
      "text/plain": [
       "   label  pixel_0  pixel_1  pixel_2  pixel_3  pixel_4  pixel_5  pixel_6  \\\n",
       "0      0        0        0        0        0        0        0        0   \n",
       "1      7        0        0        0        0        0        0        0   \n",
       "2      1        0        0        0        0        0        0        0   \n",
       "3      1        0        0        0        0        0        0        0   \n",
       "4      4        0        0        0        0        0        0        0   \n",
       "\n",
       "   pixel_7  pixel_8  ...  pixel_774  pixel_775  pixel_776  pixel_777  \\\n",
       "0        0        0  ...          0          0          0          0   \n",
       "1        0        0  ...          0          0          0          0   \n",
       "2        0        0  ...          0          0          0          0   \n",
       "3        0        0  ...          0          0          0          0   \n",
       "4        0        0  ...          0          0          0          0   \n",
       "\n",
       "   pixel_778  pixel_779  pixel_780  pixel_781  pixel_782  pixel_783  \n",
       "0          0          0          0          0          0          0  \n",
       "1          0          0          0          0          0          0  \n",
       "2          0          0          0          0          0          0  \n",
       "3          0          0          0          0          0          0  \n",
       "4          0          0          0          0          0          0  \n",
       "\n",
       "[5 rows x 785 columns]"
      ]
     },
     "execution_count": 4,
     "metadata": {},
     "output_type": "execute_result"
    }
   ],
   "source": [
    "labeled_df.head()"
   ]
  },
  {
   "cell_type": "code",
   "execution_count": 5,
   "id": "744522b0",
   "metadata": {},
   "outputs": [
    {
     "data": {
      "text/plain": [
       "(500, 785)"
      ]
     },
     "execution_count": 5,
     "metadata": {},
     "output_type": "execute_result"
    }
   ],
   "source": [
    "test_df.shape"
   ]
  },
  {
   "cell_type": "code",
   "execution_count": 6,
   "id": "c2346d5a",
   "metadata": {},
   "outputs": [
    {
     "data": {
      "text/html": [
       "<div>\n",
       "<style scoped>\n",
       "    .dataframe tbody tr th:only-of-type {\n",
       "        vertical-align: middle;\n",
       "    }\n",
       "\n",
       "    .dataframe tbody tr th {\n",
       "        vertical-align: top;\n",
       "    }\n",
       "\n",
       "    .dataframe thead th {\n",
       "        text-align: right;\n",
       "    }\n",
       "</style>\n",
       "<table border=\"1\" class=\"dataframe\">\n",
       "  <thead>\n",
       "    <tr style=\"text-align: right;\">\n",
       "      <th></th>\n",
       "      <th>label</th>\n",
       "      <th>pixel_0</th>\n",
       "      <th>pixel_1</th>\n",
       "      <th>pixel_2</th>\n",
       "      <th>pixel_3</th>\n",
       "      <th>pixel_4</th>\n",
       "      <th>pixel_5</th>\n",
       "      <th>pixel_6</th>\n",
       "      <th>pixel_7</th>\n",
       "      <th>pixel_8</th>\n",
       "      <th>...</th>\n",
       "      <th>pixel_774</th>\n",
       "      <th>pixel_775</th>\n",
       "      <th>pixel_776</th>\n",
       "      <th>pixel_777</th>\n",
       "      <th>pixel_778</th>\n",
       "      <th>pixel_779</th>\n",
       "      <th>pixel_780</th>\n",
       "      <th>pixel_781</th>\n",
       "      <th>pixel_782</th>\n",
       "      <th>pixel_783</th>\n",
       "    </tr>\n",
       "  </thead>\n",
       "  <tbody>\n",
       "    <tr>\n",
       "      <th>0</th>\n",
       "      <td>9</td>\n",
       "      <td>0</td>\n",
       "      <td>0</td>\n",
       "      <td>0</td>\n",
       "      <td>0</td>\n",
       "      <td>0</td>\n",
       "      <td>0</td>\n",
       "      <td>0</td>\n",
       "      <td>0</td>\n",
       "      <td>0</td>\n",
       "      <td>...</td>\n",
       "      <td>0</td>\n",
       "      <td>0</td>\n",
       "      <td>0</td>\n",
       "      <td>0</td>\n",
       "      <td>0</td>\n",
       "      <td>0</td>\n",
       "      <td>0</td>\n",
       "      <td>0</td>\n",
       "      <td>0</td>\n",
       "      <td>0</td>\n",
       "    </tr>\n",
       "    <tr>\n",
       "      <th>1</th>\n",
       "      <td>0</td>\n",
       "      <td>0</td>\n",
       "      <td>0</td>\n",
       "      <td>0</td>\n",
       "      <td>0</td>\n",
       "      <td>0</td>\n",
       "      <td>0</td>\n",
       "      <td>0</td>\n",
       "      <td>0</td>\n",
       "      <td>0</td>\n",
       "      <td>...</td>\n",
       "      <td>0</td>\n",
       "      <td>0</td>\n",
       "      <td>0</td>\n",
       "      <td>0</td>\n",
       "      <td>0</td>\n",
       "      <td>0</td>\n",
       "      <td>0</td>\n",
       "      <td>0</td>\n",
       "      <td>0</td>\n",
       "      <td>0</td>\n",
       "    </tr>\n",
       "    <tr>\n",
       "      <th>2</th>\n",
       "      <td>0</td>\n",
       "      <td>0</td>\n",
       "      <td>0</td>\n",
       "      <td>0</td>\n",
       "      <td>0</td>\n",
       "      <td>0</td>\n",
       "      <td>0</td>\n",
       "      <td>0</td>\n",
       "      <td>0</td>\n",
       "      <td>0</td>\n",
       "      <td>...</td>\n",
       "      <td>0</td>\n",
       "      <td>0</td>\n",
       "      <td>0</td>\n",
       "      <td>0</td>\n",
       "      <td>0</td>\n",
       "      <td>0</td>\n",
       "      <td>0</td>\n",
       "      <td>0</td>\n",
       "      <td>0</td>\n",
       "      <td>0</td>\n",
       "    </tr>\n",
       "    <tr>\n",
       "      <th>3</th>\n",
       "      <td>6</td>\n",
       "      <td>0</td>\n",
       "      <td>0</td>\n",
       "      <td>0</td>\n",
       "      <td>0</td>\n",
       "      <td>0</td>\n",
       "      <td>0</td>\n",
       "      <td>0</td>\n",
       "      <td>0</td>\n",
       "      <td>0</td>\n",
       "      <td>...</td>\n",
       "      <td>0</td>\n",
       "      <td>0</td>\n",
       "      <td>0</td>\n",
       "      <td>0</td>\n",
       "      <td>0</td>\n",
       "      <td>0</td>\n",
       "      <td>0</td>\n",
       "      <td>0</td>\n",
       "      <td>0</td>\n",
       "      <td>0</td>\n",
       "    </tr>\n",
       "    <tr>\n",
       "      <th>4</th>\n",
       "      <td>6</td>\n",
       "      <td>0</td>\n",
       "      <td>0</td>\n",
       "      <td>0</td>\n",
       "      <td>0</td>\n",
       "      <td>0</td>\n",
       "      <td>0</td>\n",
       "      <td>0</td>\n",
       "      <td>0</td>\n",
       "      <td>0</td>\n",
       "      <td>...</td>\n",
       "      <td>0</td>\n",
       "      <td>0</td>\n",
       "      <td>0</td>\n",
       "      <td>0</td>\n",
       "      <td>0</td>\n",
       "      <td>0</td>\n",
       "      <td>0</td>\n",
       "      <td>0</td>\n",
       "      <td>0</td>\n",
       "      <td>0</td>\n",
       "    </tr>\n",
       "  </tbody>\n",
       "</table>\n",
       "<p>5 rows × 785 columns</p>\n",
       "</div>"
      ],
      "text/plain": [
       "   label  pixel_0  pixel_1  pixel_2  pixel_3  pixel_4  pixel_5  pixel_6  \\\n",
       "0      9        0        0        0        0        0        0        0   \n",
       "1      0        0        0        0        0        0        0        0   \n",
       "2      0        0        0        0        0        0        0        0   \n",
       "3      6        0        0        0        0        0        0        0   \n",
       "4      6        0        0        0        0        0        0        0   \n",
       "\n",
       "   pixel_7  pixel_8  ...  pixel_774  pixel_775  pixel_776  pixel_777  \\\n",
       "0        0        0  ...          0          0          0          0   \n",
       "1        0        0  ...          0          0          0          0   \n",
       "2        0        0  ...          0          0          0          0   \n",
       "3        0        0  ...          0          0          0          0   \n",
       "4        0        0  ...          0          0          0          0   \n",
       "\n",
       "   pixel_778  pixel_779  pixel_780  pixel_781  pixel_782  pixel_783  \n",
       "0          0          0          0          0          0          0  \n",
       "1          0          0          0          0          0          0  \n",
       "2          0          0          0          0          0          0  \n",
       "3          0          0          0          0          0          0  \n",
       "4          0          0          0          0          0          0  \n",
       "\n",
       "[5 rows x 785 columns]"
      ]
     },
     "execution_count": 6,
     "metadata": {},
     "output_type": "execute_result"
    }
   ],
   "source": [
    "test_df.head()"
   ]
  },
  {
   "cell_type": "code",
   "execution_count": 7,
   "id": "d3fbaf19",
   "metadata": {},
   "outputs": [
    {
     "data": {
      "text/plain": [
       "(1500, 784)"
      ]
     },
     "execution_count": 7,
     "metadata": {},
     "output_type": "execute_result"
    }
   ],
   "source": [
    "unlabeled_df.shape"
   ]
  },
  {
   "cell_type": "code",
   "execution_count": 8,
   "id": "4e8d7802",
   "metadata": {
    "scrolled": true
   },
   "outputs": [
    {
     "data": {
      "text/html": [
       "<div>\n",
       "<style scoped>\n",
       "    .dataframe tbody tr th:only-of-type {\n",
       "        vertical-align: middle;\n",
       "    }\n",
       "\n",
       "    .dataframe tbody tr th {\n",
       "        vertical-align: top;\n",
       "    }\n",
       "\n",
       "    .dataframe thead th {\n",
       "        text-align: right;\n",
       "    }\n",
       "</style>\n",
       "<table border=\"1\" class=\"dataframe\">\n",
       "  <thead>\n",
       "    <tr style=\"text-align: right;\">\n",
       "      <th></th>\n",
       "      <th>pixel_0</th>\n",
       "      <th>pixel_1</th>\n",
       "      <th>pixel_2</th>\n",
       "      <th>pixel_3</th>\n",
       "      <th>pixel_4</th>\n",
       "      <th>pixel_5</th>\n",
       "      <th>pixel_6</th>\n",
       "      <th>pixel_7</th>\n",
       "      <th>pixel_8</th>\n",
       "      <th>pixel_9</th>\n",
       "      <th>...</th>\n",
       "      <th>pixel_774</th>\n",
       "      <th>pixel_775</th>\n",
       "      <th>pixel_776</th>\n",
       "      <th>pixel_777</th>\n",
       "      <th>pixel_778</th>\n",
       "      <th>pixel_779</th>\n",
       "      <th>pixel_780</th>\n",
       "      <th>pixel_781</th>\n",
       "      <th>pixel_782</th>\n",
       "      <th>pixel_783</th>\n",
       "    </tr>\n",
       "  </thead>\n",
       "  <tbody>\n",
       "    <tr>\n",
       "      <th>0</th>\n",
       "      <td>0</td>\n",
       "      <td>0</td>\n",
       "      <td>0</td>\n",
       "      <td>0</td>\n",
       "      <td>0</td>\n",
       "      <td>0</td>\n",
       "      <td>0</td>\n",
       "      <td>0</td>\n",
       "      <td>0</td>\n",
       "      <td>0</td>\n",
       "      <td>...</td>\n",
       "      <td>0</td>\n",
       "      <td>0</td>\n",
       "      <td>0</td>\n",
       "      <td>0</td>\n",
       "      <td>0</td>\n",
       "      <td>0</td>\n",
       "      <td>0</td>\n",
       "      <td>0</td>\n",
       "      <td>0</td>\n",
       "      <td>0</td>\n",
       "    </tr>\n",
       "    <tr>\n",
       "      <th>1</th>\n",
       "      <td>0</td>\n",
       "      <td>0</td>\n",
       "      <td>0</td>\n",
       "      <td>0</td>\n",
       "      <td>0</td>\n",
       "      <td>0</td>\n",
       "      <td>0</td>\n",
       "      <td>0</td>\n",
       "      <td>0</td>\n",
       "      <td>0</td>\n",
       "      <td>...</td>\n",
       "      <td>0</td>\n",
       "      <td>0</td>\n",
       "      <td>0</td>\n",
       "      <td>0</td>\n",
       "      <td>0</td>\n",
       "      <td>0</td>\n",
       "      <td>0</td>\n",
       "      <td>0</td>\n",
       "      <td>0</td>\n",
       "      <td>0</td>\n",
       "    </tr>\n",
       "    <tr>\n",
       "      <th>2</th>\n",
       "      <td>0</td>\n",
       "      <td>0</td>\n",
       "      <td>0</td>\n",
       "      <td>0</td>\n",
       "      <td>0</td>\n",
       "      <td>0</td>\n",
       "      <td>0</td>\n",
       "      <td>0</td>\n",
       "      <td>0</td>\n",
       "      <td>0</td>\n",
       "      <td>...</td>\n",
       "      <td>0</td>\n",
       "      <td>0</td>\n",
       "      <td>0</td>\n",
       "      <td>0</td>\n",
       "      <td>0</td>\n",
       "      <td>0</td>\n",
       "      <td>0</td>\n",
       "      <td>0</td>\n",
       "      <td>0</td>\n",
       "      <td>0</td>\n",
       "    </tr>\n",
       "    <tr>\n",
       "      <th>3</th>\n",
       "      <td>0</td>\n",
       "      <td>0</td>\n",
       "      <td>0</td>\n",
       "      <td>0</td>\n",
       "      <td>0</td>\n",
       "      <td>0</td>\n",
       "      <td>0</td>\n",
       "      <td>0</td>\n",
       "      <td>0</td>\n",
       "      <td>0</td>\n",
       "      <td>...</td>\n",
       "      <td>0</td>\n",
       "      <td>0</td>\n",
       "      <td>0</td>\n",
       "      <td>0</td>\n",
       "      <td>0</td>\n",
       "      <td>0</td>\n",
       "      <td>0</td>\n",
       "      <td>0</td>\n",
       "      <td>0</td>\n",
       "      <td>0</td>\n",
       "    </tr>\n",
       "    <tr>\n",
       "      <th>4</th>\n",
       "      <td>0</td>\n",
       "      <td>0</td>\n",
       "      <td>0</td>\n",
       "      <td>0</td>\n",
       "      <td>0</td>\n",
       "      <td>0</td>\n",
       "      <td>0</td>\n",
       "      <td>0</td>\n",
       "      <td>0</td>\n",
       "      <td>0</td>\n",
       "      <td>...</td>\n",
       "      <td>0</td>\n",
       "      <td>0</td>\n",
       "      <td>0</td>\n",
       "      <td>0</td>\n",
       "      <td>0</td>\n",
       "      <td>0</td>\n",
       "      <td>0</td>\n",
       "      <td>0</td>\n",
       "      <td>0</td>\n",
       "      <td>0</td>\n",
       "    </tr>\n",
       "  </tbody>\n",
       "</table>\n",
       "<p>5 rows × 784 columns</p>\n",
       "</div>"
      ],
      "text/plain": [
       "   pixel_0  pixel_1  pixel_2  pixel_3  pixel_4  pixel_5  pixel_6  pixel_7  \\\n",
       "0        0        0        0        0        0        0        0        0   \n",
       "1        0        0        0        0        0        0        0        0   \n",
       "2        0        0        0        0        0        0        0        0   \n",
       "3        0        0        0        0        0        0        0        0   \n",
       "4        0        0        0        0        0        0        0        0   \n",
       "\n",
       "   pixel_8  pixel_9  ...  pixel_774  pixel_775  pixel_776  pixel_777  \\\n",
       "0        0        0  ...          0          0          0          0   \n",
       "1        0        0  ...          0          0          0          0   \n",
       "2        0        0  ...          0          0          0          0   \n",
       "3        0        0  ...          0          0          0          0   \n",
       "4        0        0  ...          0          0          0          0   \n",
       "\n",
       "   pixel_778  pixel_779  pixel_780  pixel_781  pixel_782  pixel_783  \n",
       "0          0          0          0          0          0          0  \n",
       "1          0          0          0          0          0          0  \n",
       "2          0          0          0          0          0          0  \n",
       "3          0          0          0          0          0          0  \n",
       "4          0          0          0          0          0          0  \n",
       "\n",
       "[5 rows x 784 columns]"
      ]
     },
     "execution_count": 8,
     "metadata": {},
     "output_type": "execute_result"
    }
   ],
   "source": [
    "unlabeled_df.head()"
   ]
  },
  {
   "cell_type": "markdown",
   "id": "1e43478b",
   "metadata": {},
   "source": [
    "**Data preprocessing**"
   ]
  },
  {
   "cell_type": "code",
   "execution_count": 9,
   "id": "57d42265",
   "metadata": {},
   "outputs": [],
   "source": [
    "X_labeled = np.array(labeled_df.iloc[:, 1:])\n",
    "Y_labeled = np.array(labeled_df.iloc[:, 0])\n",
    "X_unlabeled = np.array(unlabeled_df)"
   ]
  },
  {
   "cell_type": "code",
   "execution_count": 10,
   "id": "856807af",
   "metadata": {},
   "outputs": [],
   "source": [
    "X_combined = np.concatenate((X_labeled, X_unlabeled))"
   ]
  },
  {
   "cell_type": "markdown",
   "id": "50f82af5",
   "metadata": {},
   "source": [
    "--------------------------------"
   ]
  },
  {
   "cell_type": "markdown",
   "id": "d46890bb",
   "metadata": {},
   "source": [
    "**II.** Train an autoencoder with only one hidden layer and change the number of its neurons to 20,\n",
    "60, 100, ..., 220 (i.e. from 20 to 220 with a step size of 40).\n"
   ]
  },
  {
   "cell_type": "code",
   "execution_count": 11,
   "id": "31a6db74",
   "metadata": {},
   "outputs": [],
   "source": [
    "neurons = np.arange(20, 221, 40)"
   ]
  },
  {
   "cell_type": "code",
   "execution_count": 17,
   "id": "74daeadc",
   "metadata": {
    "scrolled": true
   },
   "outputs": [
    {
     "name": "stderr",
     "output_type": "stream",
     "text": [
      "C:\\Users\\non_n\\conda\\lib\\site-packages\\sklearn\\neural_network\\_multilayer_perceptron.py:691: ConvergenceWarning: Stochastic Optimizer: Maximum iterations (200) reached and the optimization hasn't converged yet.\n",
      "  warnings.warn(\n",
      "C:\\Users\\non_n\\conda\\lib\\site-packages\\sklearn\\neural_network\\_multilayer_perceptron.py:691: ConvergenceWarning: Stochastic Optimizer: Maximum iterations (200) reached and the optimization hasn't converged yet.\n",
      "  warnings.warn(\n",
      "C:\\Users\\non_n\\conda\\lib\\site-packages\\sklearn\\neural_network\\_multilayer_perceptron.py:691: ConvergenceWarning: Stochastic Optimizer: Maximum iterations (200) reached and the optimization hasn't converged yet.\n",
      "  warnings.warn(\n",
      "C:\\Users\\non_n\\conda\\lib\\site-packages\\sklearn\\neural_network\\_multilayer_perceptron.py:691: ConvergenceWarning: Stochastic Optimizer: Maximum iterations (200) reached and the optimization hasn't converged yet.\n",
      "  warnings.warn(\n",
      "C:\\Users\\non_n\\conda\\lib\\site-packages\\sklearn\\neural_network\\_multilayer_perceptron.py:691: ConvergenceWarning: Stochastic Optimizer: Maximum iterations (200) reached and the optimization hasn't converged yet.\n",
      "  warnings.warn(\n",
      "C:\\Users\\non_n\\conda\\lib\\site-packages\\sklearn\\neural_network\\_multilayer_perceptron.py:691: ConvergenceWarning: Stochastic Optimizer: Maximum iterations (200) reached and the optimization hasn't converged yet.\n",
      "  warnings.warn(\n"
     ]
    }
   ],
   "source": [
    "# for labeled data\n",
    "labeled_losses = []\n",
    "labeled_model_list = []\n",
    "unlabeled_losses = []\n",
    "unlabed_model_list =[]\n",
    "reps = 5\n",
    "\n",
    "loss_matrix = np.zeros(shape=(reps, len(neurons)))\n",
    "\n",
    "\n",
    "for j in range(len(neurons)):\n",
    "    hidden = [neurons[j]]\n",
    "\n",
    "#     regressor_mlp_lab = MLPRegressor(hidden_layer_sizes= hidden, activation=activation, solver= \"sgd\", max_iter= 1000)\\\n",
    "#                 .fit(X_labeled, X_labeled)\n",
    "\n",
    "    regressor_mlp_lab = MLPRegressor(hidden_layer_sizes= hidden, activation=\"tanh\", solver= \"adam\", max_iter= 200)\\\n",
    "                .fit(X_combined, X_combined)\n",
    "#     lab_loss = np.sqrt(((regressor_mlp_lab.predict(X_labeled) - X_labeled) ** 2).sum(axis=1)).mean()\n",
    "    lab_loss = np.sqrt(((regressor_mlp_lab.predict(X_combined) - X_combined) ** 2).sum(axis=1)).mean()\n",
    "#         arm_loss = np.linalg.norm(X_combined - regressor_mlp_lab.predict(X_combined))/X_combined.shape[0]\n",
    "\n",
    "#         print(lab_loss)\n",
    "#         print(arm_loss)\n",
    "\n",
    "#     loss_matrix[i, j] = lab_loss\n",
    "\n",
    "#     regressor_mlp_unlab = MLPRegressor(hidden_layer_sizes= hidden, activation=activation, solver= \"sgd\", max_iter= 1000)\\\n",
    "#                 .fit(X_unlabeled, X_unlabeled)\n",
    "#     unlab_loss = np.sqrt(((regressor_mlp_unlab.predict(X_unlabeled) - X_unlabeled) ** 2).sum(axis=1)).mean()\n",
    "\n",
    "    labeled_losses.append(lab_loss)\n",
    "#     unlabeled_losses.append(unlab_loss)\n",
    "\n",
    "    labeled_model_list.append(regressor_mlp_lab)\n",
    "#     unlabed_model_list.append(regressor_mlp_unlab)"
   ]
  },
  {
   "cell_type": "code",
   "execution_count": null,
   "id": "c81569dd",
   "metadata": {},
   "outputs": [],
   "source": [
    "# mean_loss= loss_matrix.mean(axis= 0)"
   ]
  },
  {
   "cell_type": "markdown",
   "id": "b40d2405",
   "metadata": {},
   "source": [
    "----------------------------"
   ]
  },
  {
   "cell_type": "markdown",
   "id": "426b2ee6",
   "metadata": {},
   "source": [
    "**III.** For each model in Step II, calculate and record the reconstruction error for the autoencoder,\n",
    "which is simply the average of Euclidian distances between the input and output of the\n",
    "autoencoder. Plot these values where the x-axis is the number of units in the middle layer\n",
    "and the y-axis is the reconstruction error. Then, explain your findings based on the plot.\n"
   ]
  },
  {
   "cell_type": "code",
   "execution_count": 18,
   "id": "5de902ba",
   "metadata": {},
   "outputs": [
    {
     "data": {
      "image/png": "[encoded data removed]",
      "text/plain": [
       "<Figure size 640x480 with 1 Axes>"
      ]
     },
     "metadata": {},
     "output_type": "display_data"
    }
   ],
   "source": [
    "# high input low erros\n",
    "plt.plot(list(neurons), labeled_losses, label= \"Labeled Loss\")\n",
    "# plt.plot(list(neurons), unlabeled_losses, label= \"Unlabeled Loss\")\n",
    "# plt.plot(range(10, (len(neurons)+1)*(10), 10), unlabeled_losses, label= \"Unlabeled Loss\")\n",
    "# plt.yscale(\"log\")\n",
    "plt.ylabel(\"Euclidean Loss\")\n",
    "plt.xlabel(\"Neurons In Hidden Layer\")\n",
    "plt.legend()\n",
    "plt.grid()"
   ]
  },
  {
   "cell_type": "markdown",
   "id": "7bc8d684",
   "metadata": {},
   "source": [
    "**Answer**"
   ]
  },
  {
   "cell_type": "markdown",
   "id": "c8ed2dc2",
   "metadata": {},
   "source": [
    "The line plot above indicate that by increasing  number of neurons in the hidden layer will improve the reconstracted input, because when adding more neurons the model will be able to capture more hidden pattern from the dataset."
   ]
  },
  {
   "cell_type": "markdown",
   "id": "8d49a76d",
   "metadata": {},
   "source": [
    "----------------------------"
   ]
  },
  {
   "cell_type": "markdown",
   "id": "02eae826",
   "metadata": {},
   "source": [
    "**IV.** Build the 3-layer NN to build a classification model using all the original attributes from\n",
    "the training set and change the number of its neurons to 20, 60, 100, ..., 220 (i.e. from 20 to\n",
    "220 with a step size of 40). For each model, calculate and record the test error.\n"
   ]
  },
  {
   "cell_type": "code",
   "execution_count": 19,
   "id": "f14c6643",
   "metadata": {},
   "outputs": [],
   "source": [
    "def count_error(model, data, labels):\n",
    "    pred = model.predict(data)\n",
    "    bool_array = pred == labels\n",
    "    error = sum(1 for item in bool_array if item == False)\n",
    "    return error"
   ]
  },
  {
   "cell_type": "code",
   "execution_count": 20,
   "id": "aec38c3f",
   "metadata": {},
   "outputs": [],
   "source": [
    "# preprocess data\n",
    "X1 = labeled_df.iloc[:, 1:]\n",
    "T1 = labeled_df.iloc[:, 0]\n",
    "X2 = test_df.iloc[:, 1:]\n",
    "T2 = test_df.iloc[:, 0]"
   ]
  },
  {
   "cell_type": "code",
   "execution_count": 22,
   "id": "0c0dd33b",
   "metadata": {},
   "outputs": [],
   "source": [
    "# training classification\n",
    "test_class_errors = []\n",
    "train_class_errors = []\n",
    "\n",
    "class_model_list = []\n",
    "test_label = np.array(T2)\n",
    "train_label = np.array(T1)\n",
    "\n",
    "for neuron in neurons:\n",
    "    hidden = [neuron]\n",
    "    class_mlp = MLPClassifier(hidden_layer_sizes=hidden, activation=\"tanh\", solver= \"adam\", max_iter= 5000)\\\n",
    "                .fit(X1, T1)\n",
    "\n",
    "    test_error = count_error(model= class_mlp, data= X2, labels= test_label)\n",
    "    test_class_errors.append(test_error)\n",
    "    \n",
    "    train_error = count_error(model= class_mlp, data= X1, labels= train_label)\n",
    "    train_class_errors.append(train_error)\n",
    "    \n",
    "    class_model_list.append(class_mlp)"
   ]
  },
  {
   "cell_type": "markdown",
   "id": "5c9f7d43",
   "metadata": {},
   "source": [
    "-------------------------------"
   ]
  },
  {
   "cell_type": "markdown",
   "id": "38c124fe",
   "metadata": {},
   "source": [
    "**V.** Build augmented self-taught networks using the models learnt in Step II. For each model:\n",
    "1) Add the output of the middle layer of an autoencoder as extra features to the original feature set\\\n",
    "2) Train a new 3-layer Neural Network using all features (original + extra) and varying the\n",
    "number of hidden neurons (like Step IV) as well.\\\n",
    "3) Then calculate and record the test error.\n",
    "For example, each model should be developed as follows: Model 1: 20 hidden neurons + extra\n",
    "20 features (from an autoencoder), Model 2: 60 hidden neurons + extra 60 features (from an\n",
    "autoencoder), ..., Model 5: 220 hidden neurons + extra 220 features (from an autoencoder)."
   ]
  },
  {
   "cell_type": "code",
   "execution_count": 23,
   "id": "c8227073",
   "metadata": {},
   "outputs": [],
   "source": [
    "def get_mid_output(X, weigth, intercept):\n",
    "    input_data = X\n",
    "    W_ = weigth\n",
    "    b_ = intercept\n",
    "    \n",
    "    z1 = input_data @ W_ + b_\n",
    "    a1 = np.tanh(z1)\n",
    "    return (a1, z1)   "
   ]
  },
  {
   "cell_type": "code",
   "execution_count": 33,
   "id": "c927fd36",
   "metadata": {},
   "outputs": [
    {
     "data": {
      "text/plain": [
       "(500, 220)"
      ]
     },
     "execution_count": 33,
     "metadata": {},
     "output_type": "execute_result"
    }
   ],
   "source": [
    "extra_features.shape"
   ]
  },
  {
   "cell_type": "code",
   "execution_count": 25,
   "id": "5611d0fa",
   "metadata": {},
   "outputs": [
    {
     "name": "stdout",
     "output_type": "stream",
     "text": [
      "Number of extra features: 20\n",
      "Training with 20 hidden neurons\n",
      "Number of extra features: 60\n",
      "Training with 60 hidden neurons\n",
      "Number of extra features: 100\n",
      "Training with 100 hidden neurons\n",
      "Number of extra features: 140\n",
      "Training with 140 hidden neurons\n",
      "Number of extra features: 180\n",
      "Training with 180 hidden neurons\n",
      "Number of extra features: 220\n",
      "Training with 220 hidden neurons\n"
     ]
    }
   ],
   "source": [
    "# extrac extra features for training data\n",
    "new_train_data_list = []\n",
    "\n",
    "for i in range(len(labeled_model_list)):\n",
    "    # get first layer weigth\n",
    "    weigth = labeled_model_list[i].coefs_[0]\n",
    "    # get first layer intercept \n",
    "    intercept = labeled_model_list[i].intercepts_[0]\n",
    "    \n",
    "    extra_features = get_mid_output(X= X1, weigth= weigth, intercept= intercept)[0]\n",
    "    \n",
    "    # combine with orginal data \n",
    "    new_data = np.concatenate((X_labeled, extra_features), axis =1)\n",
    "    new_train_data_list.append(new_data)\n",
    "    print(f\"Number of extra features: {new_data.shape[1] - 784}\")\n",
    "    print(f\"Training with {neurons[i]} hidden neurons\")"
   ]
  },
  {
   "cell_type": "code",
   "execution_count": 26,
   "id": "77b0c366",
   "metadata": {},
   "outputs": [
    {
     "name": "stdout",
     "output_type": "stream",
     "text": [
      "Number of extra features: 20\n",
      "testing with 20 hidden neurons\n",
      "Number of extra features: 60\n",
      "testing with 60 hidden neurons\n",
      "Number of extra features: 100\n",
      "testing with 100 hidden neurons\n",
      "Number of extra features: 140\n",
      "testing with 140 hidden neurons\n",
      "Number of extra features: 180\n",
      "testing with 180 hidden neurons\n",
      "Number of extra features: 220\n",
      "testing with 220 hidden neurons\n"
     ]
    }
   ],
   "source": [
    "# extrac extra features for testing data\n",
    "new_test_data_list = []\n",
    "\n",
    "for i in range(len(labeled_model_list)):\n",
    "    # get first layer weigth\n",
    "    weigth = labeled_model_list[i].coefs_[0]\n",
    "    # get first layer intercept \n",
    "    intercept = labeled_model_list[i].intercepts_[0]\n",
    "    \n",
    "    extra_features = get_mid_output(X= X2, weigth= weigth, intercept= intercept)[0]\n",
    "    \n",
    "    # combine with orginal data \n",
    "    new_data = np.concatenate((X2, extra_features), axis =1)\n",
    "    new_test_data_list.append(new_data)\n",
    "    print(f\"Number of extra features: {new_data.shape[1] - 784}\")\n",
    "    print(f\"testing with {neurons[i]} hidden neurons\")"
   ]
  },
  {
   "cell_type": "code",
   "execution_count": 27,
   "id": "4f81abde",
   "metadata": {},
   "outputs": [
    {
     "name": "stdout",
     "output_type": "stream",
     "text": [
      "Training with 20 hidden neurons\n",
      "Training with 60 hidden neurons\n",
      "Training with 100 hidden neurons\n",
      "Training with 140 hidden neurons\n",
      "Training with 180 hidden neurons\n",
      "Training with 220 hidden neurons\n"
     ]
    }
   ],
   "source": [
    "# retrain model with extra features\n",
    "new_test_errors = []\n",
    "new_train_errors = []\n",
    "\n",
    "for i in range(len(neurons)):\n",
    "    hidden = [neurons[i]]\n",
    "    train_data = new_train_data_list[i]\n",
    "    test_data = new_test_data_list[i]\n",
    "    \n",
    "    class_mlp = MLPClassifier(hidden_layer_sizes=hidden, activation= \"tanh\", solver= \"adam\", max_iter= 5000)\\\n",
    "                .fit(train_data, T1)\n",
    "    \n",
    "    test_error = count_error(model= class_mlp, data= test_data, labels= T2)\n",
    "    train_error = count_error(model= class_mlp, data= train_data, labels= T1)\n",
    "    \n",
    "    new_test_errors.append(test_error)\n",
    "    new_train_errors.append(train_error)\n",
    "    print(f\"Training with {neurons[i]} hidden neurons\")"
   ]
  },
  {
   "cell_type": "markdown",
   "id": "966f81e3",
   "metadata": {},
   "source": [
    "**VI.** Plot the error rates for the 3-layer neural networks from Step IV and the augmented selftaught networks from Step V, while the x-axis is the number of hidden neurons and y-axis is\n",
    "the classification error. Explain how the performance of the 3-layer neural networks and the\n",
    "augmented self-taught networks is different and why they are different or why they are not\n",
    "different, based on the plot."
   ]
  },
  {
   "cell_type": "code",
   "execution_count": 29,
   "id": "b5261674",
   "metadata": {
    "scrolled": false
   },
   "outputs": [
    {
     "data": {
      "image/png": "[encoded data removed]",
      "text/plain": [
       "<Figure size 800x600 with 2 Axes>"
      ]
     },
     "metadata": {},
     "output_type": "display_data"
    }
   ],
   "source": [
    "# create subplots\n",
    "fig, (ax1, ax2) = plt.subplots(2, 1, figsize=(8, 6), sharex=True)\n",
    "\n",
    "# plot test errors\n",
    "ax1.plot(neurons, test_class_errors, label=\"Test Error From Original Data\", color= \"red\")\n",
    "ax1.plot(neurons, new_test_errors, label=\"Test Error From Data With Extra Features\", linestyle=\"--\", color= \"blue\")\n",
    "ax1.set_ylabel(\"Classification Errors\")\n",
    "ax1.legend()\n",
    "ax1.grid()\n",
    "\n",
    "# plot training errors\n",
    "ax2.plot(neurons, train_class_errors, label=\"Train Error From Original Data\", color= \"red\")\n",
    "ax2.plot(neurons, new_train_errors, label=\"Train Error From Data With Extra Features\", linestyle=\"--\", color= \"blue\")\n",
    "ax2.set_xlabel(\"Neurons In Hidden Layer\")\n",
    "ax2.set_ylabel(\"Classification Errors\")\n",
    "ax2.legend()\n",
    "ax2.grid()\n",
    "\n",
    "# add a title\n",
    "plt.suptitle(\"Classification Errors vs. Neurons In Hidden Layer\")\n",
    "\n",
    "# show the plot\n",
    "plt.tight_layout()\n",
    "plt.show()"
   ]
  },
  {
   "cell_type": "markdown",
   "id": "9cc5d5c4",
   "metadata": {},
   "source": [
    "**Answer**"
   ]
  },
  {
   "cell_type": "markdown",
   "id": "37bb2e24",
   "metadata": {},
   "source": [
    "1. When the number of neurons in the hidden layer is low (less than 60), the model that includes extra features(from lower dimension of the previous model) outperforms the model using only the original data. This improvement occurs because the additional features introduce more patters and infromation, enhancing the models predictive performance.\n",
    "2. At neurons 60 and 100, the model with original data shows a plateau in error rate. This means that by increasing number of neurons does not significantly improve the model performance. In contrast, the model with extra features continue to benefit from the additional information and performs better."
   ]
  }
 ],
 "metadata": {
  "kernelspec": {
   "display_name": "Python 3 (ipykernel)",
   "language": "python",
   "name": "python3"
  },
  "language_info": {
   "codemirror_mode": {
    "name": "ipython",
    "version": 3
   },
   "file_extension": ".py",
   "mimetype": "text/x-python",
   "name": "python",
   "nbconvert_exporter": "python",
   "pygments_lexer": "ipython3",
   "version": "3.9.13"
  }
 },
 "nbformat": 4,
 "nbformat_minor": 5
}
